{
 "cells": [
  {
   "cell_type": "markdown",
   "metadata": {},
   "source": [
    "# Data Preparation"
   ]
  },
  {
   "cell_type": "markdown",
   "metadata": {},
   "source": [
    "vielleicht Data Augmention nutzen, um Datensatz zu vergrößern"
   ]
  },
  {
   "cell_type": "code",
   "execution_count": 4,
   "metadata": {},
   "outputs": [],
   "source": [
    "import cv2 as cv\n",
    "import glob\n",
    "import matplotlib.pyplot as plot\n",
    "from PIL import Image\n",
    "import datetime\n",
    "%matplotlib inline\n",
    "# get images from data path\n",
    "images = [cv.imread(file) for file in glob.glob(\"data/test/*\")]\n",
    "# convert the images to grayscale\n",
    "images_gray = [cv.cvtColor(image, cv.COLOR_BGR2GRAY) for image in images]\n",
    "# using cascade classifier for general face detection\n",
    "cascade = cv.CascadeClassifier(\"files/haarcascade_frontalface_default.xml\")\n",
    "# detect faces\n",
    "faces = [cascade.detectMultiScale(img_gray, scaleFactor=1.2, minNeighbors=5, minSize=(30, 30)) for img_gray in images_gray]\n",
    "\n",
    "for x, y, width, height in faces:\n",
    "    for img in images:            \n",
    "        cv.rectangle(img, (x, y), (x + width, y + height), color=(0,0,255), thickness=2)\n",
    "        # crop image at ROI\n",
    "        crop_image = img[y:y+height, x:x+width]\n",
    "        saved = cv.imwrite(\"trainig_data/test.jpg\", crop_image)\n",
    "        if saved:\n",
    "            print(\"saved\")\n",
    "\n",
    "for img in images:   \n",
    "    cv.imshow('image', image)\n",
    "    cv.waitKey(0)\n",
    "    cv.destroyAllWindows()"
   ]
  },
  {
   "cell_type": "markdown",
   "metadata": {},
   "source": [
    "# Network Training"
   ]
  },
  {
   "cell_type": "markdown",
   "metadata": {},
   "source": []
  },
  {
   "cell_type": "markdown",
   "metadata": {},
   "source": [
    "# Evaluation"
   ]
  },
  {
   "cell_type": "markdown",
   "metadata": {},
   "source": []
  },
  {
   "cell_type": "markdown",
   "metadata": {},
   "source": [
    "# Discussion of the results"
   ]
  },
  {
   "cell_type": "markdown",
   "metadata": {},
   "source": []
  }
 ],
 "metadata": {
  "interpreter": {
   "hash": "cb995c900ad59a34af0dc93b724e2723f333de620077d2080309d75bf10295b1"
  },
  "kernelspec": {
   "display_name": "Python 3.9.12 ('tensorflow')",
   "language": "python",
   "name": "python3"
  },
  "language_info": {
   "codemirror_mode": {
    "name": "ipython",
    "version": 3
   },
   "file_extension": ".py",
   "mimetype": "text/x-python",
   "name": "python",
   "nbconvert_exporter": "python",
   "pygments_lexer": "ipython3",
   "version": "3.9.12"
  },
  "orig_nbformat": 4
 },
 "nbformat": 4,
 "nbformat_minor": 2
}
