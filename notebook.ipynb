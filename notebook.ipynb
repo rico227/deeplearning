{
 "cells": [
  {
   "cell_type": "markdown",
   "metadata": {},
   "source": [
    "### Imports"
   ]
  },
  {
   "cell_type": "code",
   "execution_count": null,
   "metadata": {},
   "outputs": [],
   "source": [
    "import cv2 as cv\n",
    "import glob\n",
    "import matplotlib.pyplot as plot\n",
    "from PIL import Image\n",
    "import datetime"
   ]
  },
  {
   "cell_type": "markdown",
   "metadata": {},
   "source": [
    "# Data Preparation"
   ]
  },
  {
   "cell_type": "markdown",
   "metadata": {},
   "source": [
    "### Creating a dataset"
   ]
  },
  {
   "cell_type": "code",
   "execution_count": 6,
   "metadata": {},
   "outputs": [
    {
     "ename": "error",
     "evalue": "OpenCV(4.5.4) :-1: error: (-5:Bad argument) in function 'rectangle'\n> Overload resolution failed:\n>  - Can't parse 'pt1'. Sequence item with index 0 has a wrong type\n>  - Can't parse 'pt1'. Sequence item with index 0 has a wrong type\n>  - argument for rectangle() given by name ('color') and position (3)\n>  - argument for rectangle() given by name ('color') and position (3)\n",
     "output_type": "error",
     "traceback": [
      "\u001b[1;31m---------------------------------------------------------------------------\u001b[0m",
      "\u001b[1;31merror\u001b[0m                                     Traceback (most recent call last)",
      "\u001b[1;32mc:\\repos\\deeplearning\\notebook.ipynb Cell 3'\u001b[0m in \u001b[0;36m<cell line: 16>\u001b[1;34m()\u001b[0m\n\u001b[0;32m     <a href='vscode-notebook-cell:/c%3A/repos/deeplearning/notebook.ipynb#ch0000002?line=15'>16</a>\u001b[0m \u001b[39mfor\u001b[39;00m img \u001b[39min\u001b[39;00m images: \n\u001b[0;32m     <a href='vscode-notebook-cell:/c%3A/repos/deeplearning/notebook.ipynb#ch0000002?line=16'>17</a>\u001b[0m     \u001b[39mfor\u001b[39;00m x, y, width, height \u001b[39min\u001b[39;00m faces:               \n\u001b[1;32m---> <a href='vscode-notebook-cell:/c%3A/repos/deeplearning/notebook.ipynb#ch0000002?line=17'>18</a>\u001b[0m         cv\u001b[39m.\u001b[39;49mrectangle(img, (x, y), (x \u001b[39m+\u001b[39;49m width, y \u001b[39m+\u001b[39;49m height), color\u001b[39m=\u001b[39;49m(\u001b[39m0\u001b[39;49m,\u001b[39m0\u001b[39;49m,\u001b[39m255\u001b[39;49m), thickness\u001b[39m=\u001b[39;49m\u001b[39m2\u001b[39;49m)\n\u001b[0;32m     <a href='vscode-notebook-cell:/c%3A/repos/deeplearning/notebook.ipynb#ch0000002?line=18'>19</a>\u001b[0m         \u001b[39m# crop image at ROI\u001b[39;00m\n\u001b[0;32m     <a href='vscode-notebook-cell:/c%3A/repos/deeplearning/notebook.ipynb#ch0000002?line=19'>20</a>\u001b[0m         crop_image \u001b[39m=\u001b[39m img[y:y\u001b[39m+\u001b[39mheight, x:x\u001b[39m+\u001b[39mwidth]\n",
      "\u001b[1;31merror\u001b[0m: OpenCV(4.5.4) :-1: error: (-5:Bad argument) in function 'rectangle'\n> Overload resolution failed:\n>  - Can't parse 'pt1'. Sequence item with index 0 has a wrong type\n>  - Can't parse 'pt1'. Sequence item with index 0 has a wrong type\n>  - argument for rectangle() given by name ('color') and position (3)\n>  - argument for rectangle() given by name ('color') and position (3)\n"
     ]
    }
   ],
   "source": [
    "\n",
    "%matplotlib inline\n",
    "# get images from data path\n",
    "images = [cv.imread(file) for file in glob.glob(\"data/test/*\")]\n",
    "# convert the images to grayscale\n",
    "images_gray = [cv.cvtColor(image, cv.COLOR_BGR2GRAY) for image in images]\n",
    "# using cascade classifier for general face detection\n",
    "cascade = cv.CascadeClassifier(\"files/haarcascade_frontalface_default.xml\")\n",
    "# detect faces\n",
    "faces = [cascade.detectMultiScale(img_gray, scaleFactor=1.2, minNeighbors=5, minSize=(30, 30)) for img_gray in images_gray]\n",
    "\n",
    "for img in images: \n",
    "    for x, y, width, height in faces:               \n",
    "        cv.rectangle(img, (x, y), (x + width, y + height), color=(0,0,255), thickness=2)\n",
    "        # crop image at ROI\n",
    "        crop_image = img[y:y+height, x:x+width]\n",
    "        saved = cv.imwrite(\"trainig_data/test.jpg\", crop_image)\n",
    "        if saved:\n",
    "            print(\"saved\")\n",
    "\n",
    "for img in images:   \n",
    "    cv.imshow('image', img)\n",
    "    cv.waitKey(0)\n",
    "    cv.destroyAllWindows()"
   ]
  },
  {
   "cell_type": "markdown",
   "metadata": {},
   "source": [
    "### Data augmentation"
   ]
  },
  {
   "cell_type": "markdown",
   "metadata": {},
   "source": [
    "### Have a look at the data"
   ]
  },
  {
   "cell_type": "markdown",
   "metadata": {},
   "source": [
    "# Network Training"
   ]
  },
  {
   "cell_type": "markdown",
   "metadata": {},
   "source": []
  },
  {
   "cell_type": "markdown",
   "metadata": {},
   "source": [
    "# Evaluation"
   ]
  },
  {
   "cell_type": "markdown",
   "metadata": {},
   "source": []
  },
  {
   "cell_type": "markdown",
   "metadata": {},
   "source": [
    "# Discussion of the results"
   ]
  },
  {
   "cell_type": "markdown",
   "metadata": {},
   "source": []
  }
 ],
 "metadata": {
  "interpreter": {
   "hash": "cb995c900ad59a34af0dc93b724e2723f333de620077d2080309d75bf10295b1"
  },
  "kernelspec": {
   "display_name": "Python 3.9.12 ('tensorflow')",
   "language": "python",
   "name": "python3"
  },
  "language_info": {
   "codemirror_mode": {
    "name": "ipython",
    "version": 3
   },
   "file_extension": ".py",
   "mimetype": "text/x-python",
   "name": "python",
   "nbconvert_exporter": "python",
   "pygments_lexer": "ipython3",
   "version": "3.9.12"
  },
  "orig_nbformat": 4
 },
 "nbformat": 4,
 "nbformat_minor": 2
}
